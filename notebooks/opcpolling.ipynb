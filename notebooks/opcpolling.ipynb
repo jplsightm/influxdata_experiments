{
 "cells": [
  {
   "cell_type": "code",
   "execution_count": 39,
   "metadata": {},
   "outputs": [],
   "source": [
    "from opcua import Client\n",
    "from opcua import ua\n",
    "from pprint import pprint\n",
    "from time import sleep\n",
    "from datetime import datetime\n",
    "from collections import namedtuple"
   ]
  },
  {
   "cell_type": "code",
   "execution_count": 3,
   "metadata": {},
   "outputs": [],
   "source": [
    "client = Client(\"opc.tcp://10.211.55.26:53530/OPCUA/SimulationServer/\")"
   ]
  },
  {
   "cell_type": "code",
   "execution_count": 4,
   "metadata": {},
   "outputs": [],
   "source": [
    "client.connect()"
   ]
  },
  {
   "cell_type": "code",
   "execution_count": 5,
   "metadata": {},
   "outputs": [],
   "source": [
    "root = client.get_root_node()"
   ]
  },
  {
   "cell_type": "code",
   "execution_count": 6,
   "metadata": {},
   "outputs": [
    {
     "name": "stdout",
     "output_type": "stream",
     "text": [
      "Node(TwoByteNodeId(i=84))\n"
     ]
    }
   ],
   "source": [
    "print root"
   ]
  },
  {
   "cell_type": "code",
   "execution_count": 7,
   "metadata": {},
   "outputs": [],
   "source": [
    "objects = client.get_objects_node()"
   ]
  },
  {
   "cell_type": "code",
   "execution_count": 13,
   "metadata": {},
   "outputs": [
    {
     "name": "stdout",
     "output_type": "stream",
     "text": [
      "[Node(FourByteNodeId(i=2253;nsu=http://opcfoundation.org/UA/)),\n",
      " Node(StringNodeId(ns=2;s=MyObjectsFolder)),\n",
      " Node(StringNodeId(ns=3;s=StaticData)),\n",
      " Node(StringNodeId(ns=4;s=NonUaNodeComplianceTest)),\n",
      " Node(StringNodeId(ns=5;s=85/0:Simulation)),\n",
      " Node(StringNodeId(ns=6;s=MyBigNodeManager))]\n"
     ]
    }
   ],
   "source": [
    "pprint(objects.get_children())"
   ]
  },
  {
   "cell_type": "code",
   "execution_count": 14,
   "metadata": {},
   "outputs": [],
   "source": [
    "sim = client.get_node('ns=5;s=85/0:Simulation')"
   ]
  },
  {
   "cell_type": "code",
   "execution_count": 32,
   "metadata": {},
   "outputs": [
    {
     "data": {
      "text/plain": [
       "'[Node(StringNodeId(ns=5;s=Counter1)), Node(StringNodeId(ns=5;s=Expression1)), Node(StringNodeId(ns=5;s=Random1)), Node(StringNodeId(ns=5;s=Sawtooth1)), Node(StringNodeId(ns=5;s=Sinusoid1)), Node(StringNodeId(ns=5;s=Square1)), Node(StringNodeId(ns=5;s=Triangle1))]'"
      ]
     },
     "execution_count": 32,
     "metadata": {},
     "output_type": "execute_result"
    }
   ],
   "source": [
    "str(sim.get_children())"
   ]
  },
  {
   "cell_type": "markdown",
   "metadata": {},
   "source": [
    "# What just happened?\n",
    "\n",
    "We connected to a prosys OPCUA server. This one is used for simulation and will provide repeated patterns that can be identified. Much of this is reapplying examples found at https://github.com/FreeOpcUa. This is not meant to be a demo of OPCUA. Rather, I want to focus on different methods for getting this type of data to down stream datasources where that information can be processed."
   ]
  },
  {
   "cell_type": "code",
   "execution_count": 36,
   "metadata": {},
   "outputs": [],
   "source": [
    "exp = client.get_node('ns=5;s=Expression1')"
   ]
  },
  {
   "cell_type": "code",
   "execution_count": 37,
   "metadata": {},
   "outputs": [],
   "source": [
    "# client.get_node('ns=5;s=Expression11').get_value()"
   ]
  },
  {
   "cell_type": "code",
   "execution_count": 26,
   "metadata": {},
   "outputs": [
    {
     "data": {
      "text/plain": [
       "3.886289501972594"
      ]
     },
     "execution_count": 26,
     "metadata": {},
     "output_type": "execute_result"
    }
   ],
   "source": [
    "exp.get_value()"
   ]
  },
  {
   "cell_type": "code",
   "execution_count": 43,
   "metadata": {},
   "outputs": [],
   "source": [
    "class PollOPCNode(object):\n",
    "    \"\"\"\n",
    "    Define a tag to be polled\n",
    "    Provide method to retreive values\n",
    "    Storage of those values is not in scope for this Class\n",
    "    \"\"\"\n",
    "    \n",
    "    def __init__(self, node_string, client_obj, clean_string=None):\n",
    "        self.node_str = node_string\n",
    "        self.client = client_obj\n",
    "        self.node = self.client.get_node(self.node_str)\n",
    "        if clean_string is None:\n",
    "            self.clean_string = self.node_str\n",
    "        else:\n",
    "            self.clean_string = clean_string\n",
    "        \n",
    "        # check if this is a valid node\n",
    "        self._check_for_children()\n",
    "        self._check_for_value()\n",
    "        \n",
    "    def _check_for_children(self):\n",
    "        \"\"\"\n",
    "        Check if a node has children. It is assumped that if a node has children it should not be polled, thus throw an error.\n",
    "        \"\"\"\n",
    "        if len(self.node.get_children()) > 0:\n",
    "            raise ValueError('This Node is not a leaf node. Children of this node are {}'.format(self.client.get_children()))\n",
    "    \n",
    "    def _check_for_value(self):\n",
    "        \"\"\"\n",
    "        It is possible to define a tag that is not valid... check if there is a value associated with that tag.\n",
    "        \"\"\"\n",
    "        self.node.get_value()\n",
    "        \n",
    "    def read_value(self, reads=1, _sleep=.1):\n",
    "        values = []\n",
    "        Result = namedtuple('Result', ['timestamp', 'fieldvalue', 'fieldname'])\n",
    "        for count in range(reads):\n",
    "            if reads > 1:\n",
    "                sleep(_sleep)\n",
    "            values.append(Result(datetime.now(), self.node.get_value(), self.clean_string))\n",
    "        return values"
   ]
  },
  {
   "cell_type": "markdown",
   "metadata": {},
   "source": [
    "## Testing the polling class above"
   ]
  },
  {
   "cell_type": "code",
   "execution_count": 44,
   "metadata": {},
   "outputs": [],
   "source": [
    "t = PollOPCNode('ns=5;s=Expression1', client, 'expression')"
   ]
  },
  {
   "cell_type": "code",
   "execution_count": 45,
   "metadata": {},
   "outputs": [
    {
     "data": {
      "text/plain": [
       "[Result(timestamp=datetime.datetime(2017, 12, 28, 17, 19, 37, 53455), fieldvalue=2.7890439238358957, fieldname='expression')]"
      ]
     },
     "execution_count": 45,
     "metadata": {},
     "output_type": "execute_result"
    }
   ],
   "source": [
    "t.read_value()"
   ]
  },
  {
   "cell_type": "code",
   "execution_count": 46,
   "metadata": {},
   "outputs": [
    {
     "data": {
      "text/plain": [
       "[Result(timestamp=datetime.datetime(2017, 12, 28, 17, 19, 45, 616900), fieldvalue=4.5813414861761714e-07, fieldname='expression'),\n",
       " Result(timestamp=datetime.datetime(2017, 12, 28, 17, 19, 45, 727701), fieldvalue=4.5813414861761714e-07, fieldname='expression'),\n",
       " Result(timestamp=datetime.datetime(2017, 12, 28, 17, 19, 45, 838342), fieldvalue=4.5813414861761714e-07, fieldname='expression'),\n",
       " Result(timestamp=datetime.datetime(2017, 12, 28, 17, 19, 45, 944946), fieldvalue=4.5813414861761714e-07, fieldname='expression'),\n",
       " Result(timestamp=datetime.datetime(2017, 12, 28, 17, 19, 46, 55069), fieldvalue=-0.015822859966911462, fieldname='expression')]"
      ]
     },
     "execution_count": 46,
     "metadata": {},
     "output_type": "execute_result"
    }
   ],
   "source": [
    "t.read_value(5)"
   ]
  },
  {
   "cell_type": "code",
   "execution_count": 47,
   "metadata": {},
   "outputs": [
    {
     "data": {
      "text/plain": [
       "[Result(timestamp=datetime.datetime(2017, 12, 28, 17, 20, 18, 917557), fieldvalue=0.024429749891246688, fieldname='expression'),\n",
       " Result(timestamp=datetime.datetime(2017, 12, 28, 17, 20, 19, 424133), fieldvalue=0.11371077187895073, fieldname='expression'),\n",
       " Result(timestamp=datetime.datetime(2017, 12, 28, 17, 20, 19, 934624), fieldvalue=0.11371077187895073, fieldname='expression'),\n",
       " Result(timestamp=datetime.datetime(2017, 12, 28, 17, 20, 20, 440849), fieldvalue=0.26794945593034947, fieldname='expression'),\n",
       " Result(timestamp=datetime.datetime(2017, 12, 28, 17, 20, 20, 951108), fieldvalue=0.26794945593034947, fieldname='expression')]"
      ]
     },
     "execution_count": 47,
     "metadata": {},
     "output_type": "execute_result"
    }
   ],
   "source": [
    "t.read_value(5, .5)"
   ]
  },
  {
   "cell_type": "code",
   "execution_count": null,
   "metadata": {},
   "outputs": [],
   "source": []
  }
 ],
 "metadata": {
  "kernelspec": {
   "display_name": "Python 2",
   "language": "python",
   "name": "python2"
  },
  "language_info": {
   "codemirror_mode": {
    "name": "ipython",
    "version": 2
   },
   "file_extension": ".py",
   "mimetype": "text/x-python",
   "name": "python",
   "nbconvert_exporter": "python",
   "pygments_lexer": "ipython2",
   "version": "2.7.12"
  }
 },
 "nbformat": 4,
 "nbformat_minor": 2
}
